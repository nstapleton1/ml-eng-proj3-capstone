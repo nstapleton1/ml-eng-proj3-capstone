{
 "cells": [
  {
   "cell_type": "markdown",
   "metadata": {},
   "source": [
    "# Capstone Project: Create a Customer Segmentation Report for Arvato Financial Services\n",
    "\n",
    "In this project, you will analyze demographics data for customers of a mail-order sales company in Germany, comparing it against demographics information for the general population. You'll use unsupervised learning techniques to perform customer segmentation, identifying the parts of the population that best describe the core customer base of the company. Then, you'll apply what you've learned on a third dataset with demographics information for targets of a marketing campaign for the company, and use a model to predict which individuals are most likely to convert into becoming customers for the company. The data that you will use has been provided by our partners at Bertelsmann Arvato Analytics, and represents a real-life data science task.\n",
    "\n",
    "If you completed the first term of this program, you will be familiar with the first part of this project, from the unsupervised learning project. The versions of those two datasets used in this project will include many more features and has not been pre-cleaned. You are also free to choose whatever approach you'd like to analyzing the data rather than follow pre-determined steps. In your work on this project, make sure that you carefully document your steps and decisions, since your main deliverable for this project will be a blog post reporting your findings."
   ]
  },
  {
   "cell_type": "code",
   "execution_count": 1,
   "metadata": {},
   "outputs": [],
   "source": [
    "# import libraries here; add more as necessary\n",
    "import numpy as np\n",
    "import pandas as pd\n",
    "import matplotlib.pyplot as plt\n",
    "import seaborn as sns\n",
    "\n",
    "# magic word for producing visualizations in notebook\n",
    "%matplotlib inline"
   ]
  },
  {
   "cell_type": "code",
   "execution_count": null,
   "metadata": {},
   "outputs": [],
   "source": [
    "#all other imports \n"
   ]
  },
  {
   "cell_type": "code",
   "execution_count": 2,
   "metadata": {},
   "outputs": [],
   "source": [
    "#useful variables\n",
    "addtional_customer_cols = ['PRODUCT_GROUP', 'CUSTOMER_GROUP', 'ONLINE_PURCHASE']\n",
    "azdias_num_rows = 891221\n",
    "azdias_num_cols = 366\n",
    "customers_num_rows = 191652\n",
    "customers_num_cols = 369"
   ]
  },
  {
   "cell_type": "markdown",
   "metadata": {},
   "source": [
    "## Part 0: Get to Know the Data\n",
    "\n",
    "There are four data files associated with this project:\n",
    "\n",
    "- `Udacity_AZDIAS_052018.csv`: Demographics data for the general population of Germany; 891 211 persons (rows) x 366 features (columns).\n",
    "- `Udacity_CUSTOMERS_052018.csv`: Demographics data for customers of a mail-order company; 191 652 persons (rows) x 369 features (columns).\n",
    "- `Udacity_MAILOUT_052018_TRAIN.csv`: Demographics data for individuals who were targets of a marketing campaign; 42 982 persons (rows) x 367 (columns).\n",
    "- `Udacity_MAILOUT_052018_TEST.csv`: Demographics data for individuals who were targets of a marketing campaign; 42 833 persons (rows) x 366 (columns).\n",
    "\n",
    "Each row of the demographics files represents a single person, but also includes information outside of individuals, including information about their household, building, and neighborhood. Use the information from the first two files to figure out how customers (\"CUSTOMERS\") are similar to or differ from the general population at large (\"AZDIAS\"), then use your analysis to make predictions on the other two files (\"MAILOUT\"), predicting which recipients are most likely to become a customer for the mail-order company.\n",
    "\n",
    "The \"CUSTOMERS\" file contains three extra columns ('CUSTOMER_GROUP', 'ONLINE_PURCHASE', and 'PRODUCT_GROUP'), which provide broad information about the customers depicted in the file. The original \"MAILOUT\" file included one additional column, \"RESPONSE\", which indicated whether or not each recipient became a customer of the company. For the \"TRAIN\" subset, this column has been retained, but in the \"TEST\" subset it has been removed; it is against that withheld column that your final predictions will be assessed in the Kaggle competition.\n",
    "\n",
    "Otherwise, all of the remaining columns are the same between the three data files. For more information about the columns depicted in the files, you can refer to two Excel spreadsheets provided in the workspace. [One of them](./DIAS Information Levels - Attributes 2017.xlsx) is a top-level list of attributes and descriptions, organized by informational category. [The other](./DIAS Attributes - Values 2017.xlsx) is a detailed mapping of data values for each feature in alphabetical order.\n",
    "\n",
    "In the below cell, we've provided some initial code to load in the first two datasets. Note for all of the `.csv` data files in this project that they're semicolon (`;`) delimited, so an additional argument in the [`read_csv()`](https://pandas.pydata.org/pandas-docs/stable/generated/pandas.read_csv.html) call has been included to read in the data properly. Also, considering the size of the datasets, it may take some time for them to load completely.\n",
    "\n",
    "You'll notice when the data is loaded in that a warning message will immediately pop up. Before you really start digging into the modeling and analysis, you're going to need to perform some cleaning. Take some time to browse the structure of the data and look over the informational spreadsheets to understand the data values. Make some decisions on which features to keep, which features to drop, and if any revisions need to be made on data formats. It'll be a good idea to create a function with pre-processing steps, since you'll need to clean all of the datasets before you work with them."
   ]
  },
  {
   "cell_type": "code",
   "execution_count": 3,
   "metadata": {},
   "outputs": [
    {
     "name": "stderr",
     "output_type": "stream",
     "text": [
      "/opt/conda/lib/python3.6/site-packages/IPython/core/interactiveshell.py:2785: DtypeWarning: Columns (18,19) have mixed types. Specify dtype option on import or set low_memory=False.\n",
      "  interactivity=interactivity, compiler=compiler, result=result)\n"
     ]
    }
   ],
   "source": [
    "# load in the data\n",
    "%timeit\n",
    "azdias = pd.read_csv('../../data/Term2/capstone/arvato_data/Udacity_AZDIAS_052018.csv', sep=';')\n",
    "customers = pd.read_csv('../../data/Term2/capstone/arvato_data/Udacity_CUSTOMERS_052018.csv', sep=';')"
   ]
  },
  {
   "cell_type": "code",
   "execution_count": null,
   "metadata": {},
   "outputs": [],
   "source": [
    "#observe warning above - 5 columns have mixed types.  Then need to be identified and addressed"
   ]
  },
  {
   "cell_type": "code",
   "execution_count": 4,
   "metadata": {},
   "outputs": [
    {
     "name": "stdout",
     "output_type": "stream",
     "text": [
      "azdias:  (891221, 366)\n",
      "customers:  (191652, 369)\n"
     ]
    }
   ],
   "source": [
    "#check the correct rows and cols are loaded\n",
    "print(\"azdias: \",azdias.shape)\n",
    "print(\"customers: \",customers.shape)\n",
    "\n",
    "#make a copy of the df\n",
    "azdias_org = azdias\n",
    "customers_org = customers"
   ]
  },
  {
   "cell_type": "code",
   "execution_count": null,
   "metadata": {},
   "outputs": [],
   "source": [
    "azdias.head"
   ]
  },
  {
   "cell_type": "code",
   "execution_count": null,
   "metadata": {},
   "outputs": [],
   "source": [
    "customers.head"
   ]
  },
  {
   "cell_type": "code",
   "execution_count": 6,
   "metadata": {},
   "outputs": [],
   "source": [
    "#load the values and attributes\n",
    "dias_values = pd.read_excel('DIAS Attributes - Values 2017.xlsx', header =1)\n",
    "dias_attribs = pd.read_excel('DIAS Information Levels - Attributes 2017.xlsx', header = 1)\n"
   ]
  },
  {
   "cell_type": "code",
   "execution_count": null,
   "metadata": {},
   "outputs": [],
   "source": [
    "dias_values.head"
   ]
  },
  {
   "cell_type": "code",
   "execution_count": null,
   "metadata": {},
   "outputs": [],
   "source": [
    "dias_attribs.head"
   ]
  },
  {
   "cell_type": "code",
   "execution_count": 13,
   "metadata": {},
   "outputs": [],
   "source": [
    "#find the cols with mixed data types\n",
    "def findColumnsWithMixedDataTypes(df):\n",
    "    '''\n",
    "    '''\n",
    "    columnsWithMixedDataTypes = []\n",
    "    for col in df.columns:\n",
    "        weird = (df[[col]].applymap(type) != df[[col]].iloc[0].apply(type)).any(axis=1)\n",
    "        if len(df[weird]) > 0:\n",
    "            #print(col)\n",
    "            columnsWithMixedDataTypes.append(col)\n",
    "    \n",
    "    return columnsWithMixedDataTypes"
   ]
  },
  {
   "cell_type": "code",
   "execution_count": 14,
   "metadata": {},
   "outputs": [
    {
     "name": "stdout",
     "output_type": "stream",
     "text": [
      "['CAMEO_DEU_2015', 'CAMEO_DEUG_2015', 'CAMEO_INTL_2015', 'D19_LETZTER_KAUF_BRANCHE', 'EINGEFUEGT_AM', 'OST_WEST_KZ']\n"
     ]
    }
   ],
   "source": [
    "azdias_mixeddatatypes_cols = findColumnsWithMixedDataTypes(azdias)\n",
    "print(azdias_mixeddatatypes_cols)"
   ]
  },
  {
   "cell_type": "code",
   "execution_count": 15,
   "metadata": {},
   "outputs": [
    {
     "name": "stdout",
     "output_type": "stream",
     "text": [
      "['CAMEO_DEU_2015', 'CAMEO_DEUG_2015', 'CAMEO_INTL_2015', 'D19_LETZTER_KAUF_BRANCHE', 'EINGEFUEGT_AM', 'OST_WEST_KZ']\n"
     ]
    }
   ],
   "source": [
    "customers_mixeddatatypes_cols = findColumnsWithMixedDataTypes(customers)\n",
    "print(customers_mixeddatatypes_cols)"
   ]
  },
  {
   "cell_type": "code",
   "execution_count": null,
   "metadata": {},
   "outputs": [],
   "source": [
    "#Conclusion: the same columns have mixed types in both files => consistency"
   ]
  },
  {
   "cell_type": "code",
   "execution_count": 6,
   "metadata": {},
   "outputs": [
    {
     "name": "stdout",
     "output_type": "stream",
     "text": [
      "Index(['CAMEO_DEUG_2015', 'CAMEO_INTL_2015'], dtype='object')\n",
      "Index(['CAMEO_DEUG_2015', 'CAMEO_INTL_2015'], dtype='object')\n"
     ]
    }
   ],
   "source": [
    "#Error message on loading: DtypeWarning: Columns (18,19) have mixed types\n",
    "#=> these are the only two we need to worry about\n",
    "#first check do they appear in the lists above\n",
    "print(azdias.columns[18:20])\n",
    "print(customers.columns[18:20])"
   ]
  },
  {
   "cell_type": "code",
   "execution_count": 5,
   "metadata": {},
   "outputs": [],
   "source": [
    "mixed_dtype_colnames = ['CAMEO_DEUG_2015', 'CAMEO_INTL_2015']"
   ]
  },
  {
   "cell_type": "code",
   "execution_count": null,
   "metadata": {},
   "outputs": [],
   "source": [
    "#check unique values in those columns\n",
    "print(pd.value_counts(azdias.CAMEO_DEUG_2015))\n",
    "print(pd.value_counts(azdias.CAMEO_INTL_2015))\n",
    "print(pd.value_counts(customers.CAMEO_DEUG_2015))\n",
    "print(pd.value_counts(customers.CAMEO_INTL_2015))"
   ]
  },
  {
   "cell_type": "code",
   "execution_count": null,
   "metadata": {},
   "outputs": [],
   "source": [
    "#double-check other four cols that method findColumnsWithMixedDataTypes revealed\n",
    "print(pd.value_counts(azdias.CAMEO_DEU_2015))\n",
    "print(pd.value_counts(azdias.D19_LETZTER_KAUF_BRANCHE))\n",
    "print(pd.value_counts(azdias.EINGEFUEGT_AM))\n",
    "print(pd.value_counts(azdias.OST_WEST_KZ))"
   ]
  },
  {
   "cell_type": "code",
   "execution_count": 6,
   "metadata": {},
   "outputs": [],
   "source": [
    "#method to update these two columns\n",
    "#NB CAMEO_INTL_2015 is CAMEO_DEINTL_2015 in DIAS Attribute Values 2017 s/s \n",
    "#CAMEO_INTL_2015: object type can be set to -1\n",
    "#CAMEO_DEUG_2015: object type can be set to -1\n",
    "#also will cast ALL values to ints\n",
    "\n",
    "def updateMixedDataTypeColumns(df, list_of_cols):\n",
    "    '''\n",
    "    '''\n",
    "    #first replace the object types with -1\n",
    "    for col in list_of_cols:\n",
    "        df[col].replace({\"X\": -1, \"XX\": -1}, inplace=True)\n",
    "        #set Nan to -1\n",
    "        df[col] = df[col].fillna(-1)\n",
    "        #cast everything to int\n",
    "        df[col] = df[col].astype(int)   "
   ]
  },
  {
   "cell_type": "code",
   "execution_count": 9,
   "metadata": {},
   "outputs": [],
   "source": [
    "updateMixedDataTypeColumns(azdias, mixed_dtype_colnames)\n",
    "updateMixedDataTypeColumns(customers, mixed_dtype_colnames)"
   ]
  },
  {
   "cell_type": "code",
   "execution_count": null,
   "metadata": {},
   "outputs": [],
   "source": [
    "#check unique values in those columns\n",
    "print(pd.value_counts(azdias.CAMEO_DEUG_2015))\n",
    "print(pd.value_counts(azdias.CAMEO_INTL_2015))\n",
    "print(pd.value_counts(customers.CAMEO_DEUG_2015))\n",
    "print(pd.value_counts(customers.CAMEO_INTL_2015))"
   ]
  },
  {
   "cell_type": "code",
   "execution_count": 10,
   "metadata": {},
   "outputs": [],
   "source": [
    "#get a count of NaN values in each df\n",
    "azdias_nan_cols = pd.DataFrame(azdias.isna().sum(),index=None)\n",
    "customers_nan_cols = pd.DataFrame(customers.isna().sum(),index=None)"
   ]
  },
  {
   "cell_type": "code",
   "execution_count": null,
   "metadata": {},
   "outputs": [],
   "source": [
    "#check output\n",
    "azdias_nan_cols"
   ]
  },
  {
   "cell_type": "code",
   "execution_count": null,
   "metadata": {},
   "outputs": [],
   "source": [
    "#customers_nan_cols_org = customers_nan_cols\n",
    "#azdias_nan_cols_org = azdias_nan_cols\n",
    "\n",
    "#df.drop(columns=['B', 'C'])\n",
    "#azdias_nan_cols=azdias_nan_cols.drop(columns=['percentage'])\n",
    "#azdias_nan_cols=azdias_nan_cols.drop(columns=['percentage_azdias'])\n",
    "#customers_nan_cols=customers_nan_cols.drop(columns=['percentage_customers'])\n",
    "#azdias_nan_cols = azdias_nan_cols_org\n",
    "#customers_nan_cols = customers_nan_cols_org\n",
    "\n",
    "azdias_nan_cols['percentage_azdias'] = azdias_nan_cols[0].apply(lambda x: x*100/len(azdias))\n",
    "customers_nan_cols['percentage_customers'] = customers_nan_cols[0].apply(lambda x: x*100/len(customers))\n",
    "\n",
    "azdias_nan_cols\n",
    "#customers_nan_cols"
   ]
  },
  {
   "cell_type": "code",
   "execution_count": 146,
   "metadata": {},
   "outputs": [
    {
     "data": {
      "text/html": [
       "<div>\n",
       "<style scoped>\n",
       "    .dataframe tbody tr th:only-of-type {\n",
       "        vertical-align: middle;\n",
       "    }\n",
       "\n",
       "    .dataframe tbody tr th {\n",
       "        vertical-align: top;\n",
       "    }\n",
       "\n",
       "    .dataframe thead th {\n",
       "        text-align: right;\n",
       "    }\n",
       "</style>\n",
       "<table border=\"1\" class=\"dataframe\">\n",
       "  <thead>\n",
       "    <tr style=\"text-align: right;\">\n",
       "      <th></th>\n",
       "      <th>Factor</th>\n",
       "      <th>Weight</th>\n",
       "      <th>Variance</th>\n",
       "    </tr>\n",
       "  </thead>\n",
       "  <tbody>\n",
       "    <tr>\n",
       "      <th>0</th>\n",
       "      <td>Growth</td>\n",
       "      <td>0.1</td>\n",
       "      <td>0.15</td>\n",
       "    </tr>\n",
       "    <tr>\n",
       "      <th>1</th>\n",
       "      <td>Value</td>\n",
       "      <td>0.2</td>\n",
       "      <td>0.35</td>\n",
       "    </tr>\n",
       "  </tbody>\n",
       "</table>\n",
       "</div>"
      ],
      "text/plain": [
       "   Factor  Weight  Variance\n",
       "0  Growth     0.1      0.15\n",
       "1   Value     0.2      0.35"
      ]
     },
     "execution_count": 146,
     "metadata": {},
     "output_type": "execute_result"
    }
   ],
   "source": [
    "df = pd.DataFrame({\n",
    "    'Factor': ['Growth', 'Value'],\n",
    "    'Weight': [0.10, 0.20],\n",
    "    'Variance': [0.15, 0.35]\n",
    "})\n",
    "\n",
    "df"
   ]
  },
  {
   "cell_type": "code",
   "execution_count": 147,
   "metadata": {},
   "outputs": [
    {
     "data": {
      "text/html": [
       "<div>\n",
       "<style scoped>\n",
       "    .dataframe tbody tr th:only-of-type {\n",
       "        vertical-align: middle;\n",
       "    }\n",
       "\n",
       "    .dataframe tbody tr th {\n",
       "        vertical-align: top;\n",
       "    }\n",
       "\n",
       "    .dataframe thead th {\n",
       "        text-align: right;\n",
       "    }\n",
       "</style>\n",
       "<table border=\"1\" class=\"dataframe\">\n",
       "  <thead>\n",
       "    <tr style=\"text-align: right;\">\n",
       "      <th></th>\n",
       "      <th>Factor</th>\n",
       "      <th>Variable</th>\n",
       "      <th>Value</th>\n",
       "    </tr>\n",
       "  </thead>\n",
       "  <tbody>\n",
       "    <tr>\n",
       "      <th>0</th>\n",
       "      <td>Growth</td>\n",
       "      <td>Weight</td>\n",
       "      <td>0.10</td>\n",
       "    </tr>\n",
       "    <tr>\n",
       "      <th>1</th>\n",
       "      <td>Value</td>\n",
       "      <td>Weight</td>\n",
       "      <td>0.20</td>\n",
       "    </tr>\n",
       "    <tr>\n",
       "      <th>2</th>\n",
       "      <td>Growth</td>\n",
       "      <td>Variance</td>\n",
       "      <td>0.15</td>\n",
       "    </tr>\n",
       "    <tr>\n",
       "      <th>3</th>\n",
       "      <td>Value</td>\n",
       "      <td>Variance</td>\n",
       "      <td>0.35</td>\n",
       "    </tr>\n",
       "  </tbody>\n",
       "</table>\n",
       "</div>"
      ],
      "text/plain": [
       "   Factor  Variable  Value\n",
       "0  Growth    Weight   0.10\n",
       "1   Value    Weight   0.20\n",
       "2  Growth  Variance   0.15\n",
       "3   Value  Variance   0.35"
      ]
     },
     "execution_count": 147,
     "metadata": {},
     "output_type": "execute_result"
    }
   ],
   "source": [
    "tidy = df.melt(id_vars='Factor').rename(columns=str.title)\n",
    "tidy"
   ]
  },
  {
   "cell_type": "code",
   "execution_count": 148,
   "metadata": {},
   "outputs": [
    {
     "data": {
      "image/png": "[encoded data removed]",
      "text/plain": [
       "<matplotlib.figure.Figure at 0x7f101e910e48>"
      ]
     },
     "metadata": {
      "needs_background": "light"
     },
     "output_type": "display_data"
    }
   ],
   "source": [
    "df = pd.DataFrame({\n",
    "    'Factor': ['Growth', 'Value'],\n",
    "    'Weight': [0.10, 0.20],\n",
    "    'Variance': [0.15, 0.35]\n",
    "})\n",
    "\n",
    "fig, ax1 = pyplot.subplots(figsize=(10, 10))\n",
    "#tidy = df.melt(id_vars='Factor').rename(columns=str.title)\n",
    "sns.barplot(x='Factor', y='Value', hue='Variable', data=tidy, ax=ax1)\n",
    "sns.despine(fig)"
   ]
  },
  {
   "cell_type": "code",
   "execution_count": null,
   "metadata": {},
   "outputs": [],
   "source": [
    "   class       men       woman   children\n",
    "0   first   0.91468    0.667971   0.660562\n",
    "1   second  0.30012    0.329380   0.882608\n",
    "2   third   0.11899    0.189747   0.121259\n",
    "\n",
    "df = pd.melt(df, id_vars=\"class\", var_name=\"sex\", value_name=\"survival rate\")\n",
    "df\n",
    "Out: \n",
    "    class       sex  survival rate\n",
    "0   first       men       0.914680\n",
    "1  second       men       0.300120\n",
    "2   third       men       0.118990\n",
    "3   first     woman       0.667971\n",
    "4  second     woman       0.329380\n",
    "5   third     woman       0.189747\n",
    "6   first  children       0.660562\n",
    "7  second  children       0.882608\n",
    "8   third  children       0.121259\n",
    "\n",
    "sns.factorplot(x='class', y='survival rate', hue='sex', data=df, kind='bar')"
   ]
  },
  {
   "cell_type": "code",
   "execution_count": null,
   "metadata": {},
   "outputs": [],
   "source": [
    "# Initialise data to lists. \n",
    "data = [{'class': 'first', 'men': 0.91468, 'women':0.667971, 'xchildren':0.660562}, \n",
    "        {'class': 'second', 'men': 0.30012, 'women':0.329380, 'xchildren':0.882608}, \n",
    "        {'class': 'third', 'men': 0.11899, 'women':0.189747, 'xchildren':0.121259}] \n",
    "\n",
    "#data = [{'class': 'first', 'men': 0.91468, 'women':0.667971, 'children': 0.66}, \n",
    "        #{'class': 'second', 'men': 0.30012, 'women':0.329380, 'children': 0.11}, \n",
    "        #{'class': 'third', 'men': 0.11899, 'women':0.189747, 'children': 0.22}\n",
    "        #] \n",
    "  \n",
    "#Creates DataFrame. \n",
    "#df = pd.DataFrame(data) \n",
    "\n",
    "# Initialise data to lists. \n",
    "#data = [{'a': 1, 'b': 2, 'c':3, 'd':4}, \n",
    "        #{'a':10, 'b': 20, 'c': 30, 'd':40}] \n",
    "  \n",
    "#data = [{'class': 'first', 'men': 2, 'women':3, 'xchildren':4}, \n",
    "        #{'class':'second', 'men': 20, 'women': 30, 'xchildren':40},\n",
    "       #{'class':'third', 'men': 200, 'women': 300, 'xchildren':400}\n",
    "       #]     \n",
    "# Creates DataFrame. \n",
    "df = pd.DataFrame(data) \n",
    "\n",
    "df = pd.melt(df, id_vars=\"class\", var_name=\"sex\", value_name=\"survival rate\")\n",
    "sns.factorplot(x='class', y='survival rate', hue='sex', data=df, kind='bar')"
   ]
  },
  {
   "cell_type": "code",
   "execution_count": 155,
   "metadata": {},
   "outputs": [
    {
     "data": {
      "text/plain": [
       "(369, 3)"
      ]
     },
     "execution_count": 155,
     "metadata": {},
     "output_type": "execute_result"
    }
   ],
   "source": [
    "customers_nan_cols.shape"
   ]
  },
  {
   "cell_type": "code",
   "execution_count": 154,
   "metadata": {},
   "outputs": [
    {
     "data": {
      "image/png": "[encoded data removed]",
      "text/plain": [
       "<matplotlib.figure.Figure at 0x7f1020a15cf8>"
      ]
     },
     "metadata": {
      "needs_background": "light"
     },
     "output_type": "display_data"
    }
   ],
   "source": [
    "import matplotlib.pyplot as pyplot\n",
    "#customers table has three extra cols\n",
    "#therefore, I will add the percentage_azdias column to the customers_nan_cols df\n",
    "#then graph the two to compare volume of missing values\n",
    "#customers_nan_cols['percentage_azdias'] = azdias_nan_cols['percentage_azdias'] \n",
    "#customers_nan_cols.reset_index(level=0, inplace=True)\n",
    "#customers_nan_cols.columns = ['feature', 'y', 'percentage_customer','percentage_azdias']\n",
    "#customers_nan_cols\n",
    "#customers_nan_cols=customers_nan_cols.drop(columns=['y'])\n",
    "#customers_nan_cols\n",
    "#graph\n",
    "fig, ax1 = pyplot.subplots(figsize=(10, 10))\n",
    "tidy = customers_nan_cols.melt(id_vars='feature').rename(columns=str.title)\n",
    "#tidy\n",
    "#tidy = pd.melt(customers_nan_cols, id_vars=\"feature\", var_name=\"title\", value_name=\"y\")\n",
    "#sns.barplot(x='Factor', y='Value', hue='Variable', data=tidy, ax=ax1)\n",
    "#sns.factorplot(x='Feature', y='survival rate', hue='sex', data=df, kind='bar')\n",
    "#sns.despine(fig)\n",
    "\n",
    "sns.barplot(x='Feature', y='Value', hue='Variable', data=tidy, ax=ax1)\n",
    "sns.despine(fig)"
   ]
  },
  {
   "cell_type": "code",
   "execution_count": null,
   "metadata": {},
   "outputs": [],
   "source": []
  },
  {
   "cell_type": "code",
   "execution_count": null,
   "metadata": {},
   "outputs": [],
   "source": []
  },
  {
   "cell_type": "code",
   "execution_count": null,
   "metadata": {},
   "outputs": [],
   "source": [
    "def column_list_of_nans_below_threshold(df,threshold):\n",
    "    l = []\n",
    "    l = list(df.drop(df.loc[:,list((100*(df.isnull().sum()/len(df.index))>=threshold))].columns, 1).columns.values)\n",
    "    print(\"# Columns having more than %s percent missing values:\"%threshold,(df.shape[1] - len(l)))\n",
    "    print(\"Columns:\\n\",list(set(list((df.columns.values))) - set(l)))\n",
    "    return l"
   ]
  },
  {
   "cell_type": "code",
   "execution_count": null,
   "metadata": {},
   "outputs": [],
   "source": [
    "#look at the numeric attributes #1\n",
    "num_attributes = customers.select_dtypes(exclude='object')\n",
    "num_attributes.describe()"
   ]
  },
  {
   "cell_type": "code",
   "execution_count": null,
   "metadata": {},
   "outputs": [],
   "source": [
    "#look at the numeric attributes #2\n",
    "num_attributes.isna().sum().sort_values(ascending=False).head()"
   ]
  },
  {
   "cell_type": "code",
   "execution_count": null,
   "metadata": {},
   "outputs": [],
   "source": [
    "#look at non-numeric attributes #1\n",
    "non_num_attributes = customers.select_dtypes(include='object')\n",
    "non_num_attributes.describe()"
   ]
  },
  {
   "cell_type": "code",
   "execution_count": null,
   "metadata": {},
   "outputs": [],
   "source": [
    "#look at non-numeric attributes #2\n",
    "non_num_attributes.head\n",
    "#non_num_attributes.describe()"
   ]
  },
  {
   "cell_type": "code",
   "execution_count": 18,
   "metadata": {},
   "outputs": [
    {
     "data": {
      "text/plain": [
       "CAMEO_INTL_2015    50428\n",
       "CAMEO_DEUG_2015    50428\n",
       "CAMEO_DEU_2015     50428\n",
       "OST_WEST_KZ        49927\n",
       "EINGEFUEGT_AM      49927\n",
       "dtype: int64"
      ]
     },
     "execution_count": 18,
     "metadata": {},
     "output_type": "execute_result"
    }
   ],
   "source": [
    "non_num_attributes.isna().sum().sort_values(ascending=False).head()"
   ]
  },
  {
   "cell_type": "markdown",
   "metadata": {},
   "source": [
    "## Part 1: Customer Segmentation Report\n",
    "\n",
    "The main bulk of your analysis will come in this part of the project. Here, you should use unsupervised learning techniques to describe the relationship between the demographics of the company's existing customers and the general population of Germany. By the end of this part, you should be able to describe parts of the general population that are more likely to be part of the mail-order company's main customer base, and which parts of the general population are less so."
   ]
  },
  {
   "cell_type": "code",
   "execution_count": null,
   "metadata": {},
   "outputs": [],
   "source": []
  },
  {
   "cell_type": "markdown",
   "metadata": {},
   "source": [
    "## Part 2: Supervised Learning Model\n",
    "\n",
    "Now that you've found which parts of the population are more likely to be customers of the mail-order company, it's time to build a prediction model. Each of the rows in the \"MAILOUT\" data files represents an individual that was targeted for a mailout campaign. Ideally, we should be able to use the demographic information from each individual to decide whether or not it will be worth it to include that person in the campaign.\n",
    "\n",
    "The \"MAILOUT\" data has been split into two approximately equal parts, each with almost 43 000 data rows. In this part, you can verify your model with the \"TRAIN\" partition, which includes a column, \"RESPONSE\", that states whether or not a person became a customer of the company following the campaign. In the next part, you'll need to create predictions on the \"TEST\" partition, where the \"RESPONSE\" column has been withheld."
   ]
  },
  {
   "cell_type": "code",
   "execution_count": null,
   "metadata": {},
   "outputs": [],
   "source": [
    "mailout_train = pd.read_csv('../../data/Term2/capstone/arvato_data/Udacity_MAILOUT_052018_TRAIN.csv', sep=';')"
   ]
  },
  {
   "cell_type": "code",
   "execution_count": null,
   "metadata": {},
   "outputs": [],
   "source": []
  },
  {
   "cell_type": "markdown",
   "metadata": {},
   "source": [
    "## Part 3: Kaggle Competition\n",
    "\n",
    "Now that you've created a model to predict which individuals are most likely to respond to a mailout campaign, it's time to test that model in competition through Kaggle. If you click on the link [here](http://www.kaggle.com/t/21e6d45d4c574c7fa2d868f0e8c83140), you'll be taken to the competition page where, if you have a Kaggle account, you can enter. If you're one of the top performers, you may have the chance to be contacted by a hiring manager from Arvato or Bertelsmann for an interview!\n",
    "\n",
    "Your entry to the competition should be a CSV file with two columns. The first column should be a copy of \"LNR\", which acts as an ID number for each individual in the \"TEST\" partition. The second column, \"RESPONSE\", should be some measure of how likely each individual became a customer – this might not be a straightforward probability. As you should have found in Part 2, there is a large output class imbalance, where most individuals did not respond to the mailout. Thus, predicting individual classes and using accuracy does not seem to be an appropriate performance evaluation method. Instead, the competition will be using AUC to evaluate performance. The exact values of the \"RESPONSE\" column do not matter as much: only that the higher values try to capture as many of the actual customers as possible, early in the ROC curve sweep."
   ]
  },
  {
   "cell_type": "code",
   "execution_count": null,
   "metadata": {},
   "outputs": [],
   "source": [
    "mailout_test = pd.read_csv('../../data/Term2/capstone/arvato_data/Udacity_MAILOUT_052018_TEST.csv', sep=';')"
   ]
  },
  {
   "cell_type": "code",
   "execution_count": null,
   "metadata": {},
   "outputs": [],
   "source": []
  }
 ],
 "metadata": {
  "kernelspec": {
   "display_name": "Python 3",
   "language": "python",
   "name": "python3"
  },
  "language_info": {
   "codemirror_mode": {
    "name": "ipython",
    "version": 3
   },
   "file_extension": ".py",
   "mimetype": "text/x-python",
   "name": "python",
   "nbconvert_exporter": "python",
   "pygments_lexer": "ipython3",
   "version": "3.6.3"
  }
 },
 "nbformat": 4,
 "nbformat_minor": 2
}
